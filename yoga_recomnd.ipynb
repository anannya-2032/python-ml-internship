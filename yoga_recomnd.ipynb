{
 "cells": [
  {
   "cell_type": "code",
   "execution_count": 1,
   "id": "c037ea04-c84b-463f-98a1-f1ece2d222e0",
   "metadata": {},
   "outputs": [],
   "source": [
    "# Import all modules and libraries\n",
    "\n",
    "import pandas as pd\n",
    "import numpy as np\n",
    "import csv\n",
    "from sklearn.feature_extraction.text import TfidfVectorizer\n",
    "from sklearn.metrics.pairwise import cosine_similarity"
   ]
  },
  {
   "cell_type": "code",
   "execution_count": 3,
   "id": "19837d0d-87e2-452a-8a8c-95287224524b",
   "metadata": {},
   "outputs": [],
   "source": [
    "# Open csv file as dataframe\n",
    "\n",
    "file=pd.read_csv(r\"C:\\Users\\Dell\\Desktop\\PYTHON ML INTERNSHIP\\Yoga_asanas - Sheet1.csv\")"
   ]
  },
  {
   "cell_type": "code",
   "execution_count": null,
   "id": "095f99cb-d8bf-4562-8601-6fd79bb91942",
   "metadata": {},
   "outputs": [],
   "source": [
    "# Print the dataframe\n",
    "\n",
    "file"
   ]
  },
  {
   "cell_type": "code",
   "execution_count": null,
   "id": "c1ce0577-0137-4d97-9f95-075a2e006627",
   "metadata": {},
   "outputs": [],
   "source": [
    "# Print the shape of the dataframe\n",
    "\n",
    "file.shape"
   ]
  },
  {
   "cell_type": "code",
   "execution_count": null,
   "id": "cb88c673-1a70-40fe-a3be-14ccd0c9d941",
   "metadata": {},
   "outputs": [],
   "source": [
    "# Print information about dataframe\n",
    "\n",
    "file.info()"
   ]
  },
  {
   "cell_type": "code",
   "execution_count": null,
   "id": "a4d8fe28-5674-4463-a46d-9d0c56e157a2",
   "metadata": {},
   "outputs": [],
   "source": [
    "# Obtain statistical information about dataframe\n",
    "\n",
    "file.describe()"
   ]
  },
  {
   "cell_type": "code",
   "execution_count": null,
   "id": "a7818f01-4ddf-41a8-823e-663a9cef9f47",
   "metadata": {},
   "outputs": [],
   "source": [
    "# Check for null values in the dataframe\n",
    "\n",
    "file.isnull().sum()"
   ]
  },
  {
   "cell_type": "code",
   "execution_count": null,
   "id": "64546fad-7dec-4725-8053-66649aa613d0",
   "metadata": {},
   "outputs": [],
   "source": [
    "# Create empty dictionaries\n",
    "\n",
    "benefit_poses = dict()\n",
    "asana_desc = dict()"
   ]
  },
  {
   "cell_type": "code",
   "execution_count": null,
   "id": "5a76cdfa-cfd7-4b13-9101-8b9b74748b27",
   "metadata": {},
   "outputs": [],
   "source": [
    "# Open csv files and print the content\n",
    "\n",
    "csvfile = open(r'C:\\Users\\Dell\\Desktop\\PYTHON ML INTERNSHIP\\Yoga_asanas - Sheet1.csv', newline='\\n')\n",
    "reader = csv.reader(csvfile)\n",
    "for row in reader :\n",
    "    print(row)"
   ]
  },
  {
   "cell_type": "code",
   "execution_count": null,
   "id": "e3655da1-4231-4a98-95ef-3d425b529259",
   "metadata": {},
   "outputs": [],
   "source": [
    "# Create asana_desc dictionary using csv file\n",
    "\n",
    "csvfile = open(r'C:\\Users\\Dell\\Desktop\\PYTHON ML INTERNSHIP\\Yoga_asanas - Sheet1.csv', newline='\\n')\n",
    "reader = csv.reader(csvfile)\n",
    "\n",
    "for row in reader:\n",
    "    pose = row[0]\n",
    "    desc = row[2].split('\\n')\n",
    "    asana_desc[pose] = desc"
   ]
  },
  {
   "cell_type": "code",
   "execution_count": null,
   "id": "f26f1998-6767-4288-8491-e35ef27da25e",
   "metadata": {},
   "outputs": [],
   "source": [
    "# Print asana_desc dictionary\n",
    "\n",
    "print(asana_desc)"
   ]
  },
  {
   "cell_type": "code",
   "execution_count": null,
   "id": "bca89546-5f8b-4522-ae99-fbf4b4487b09",
   "metadata": {},
   "outputs": [],
   "source": [
    "# Delete the first row of the csv file from the dictionary\n",
    "\n",
    "del asana_desc['Asanas']"
   ]
  },
  {
   "cell_type": "code",
   "execution_count": null,
   "id": "3a8ad137-0f58-40a8-bcca-c206383d31c6",
   "metadata": {},
   "outputs": [],
   "source": [
    "# Print the asana_desc dictionary after deletion of first row\n",
    "\n",
    "print(asana_desc)"
   ]
  },
  {
   "cell_type": "code",
   "execution_count": null,
   "id": "e550f3f2-8292-4eb6-a19d-fee9568395d9",
   "metadata": {},
   "outputs": [],
   "source": [
    "# Create benefit_poses dictionary using csv file\n",
    "\n",
    "csvfile = open(r'C:\\Users\\Dell\\Desktop\\PYTHON ML INTERNSHIP\\Yoga_asanas - Sheet1.csv', newline='\\n')\n",
    "reader = csv.reader(csvfile)\n",
    "\n",
    "for row in reader:\n",
    "    pose = row[0]\n",
    "    b_list = row[1].split(',')   #list of benefits\n",
    "    for benefit in b_list:\n",
    "        if benefit.strip() in benefit_poses :\n",
    "            benefit_poses[benefit.strip()].append(pose)\n",
    "        else:\n",
    "            benefit_poses[benefit.strip()] = [pose]"
   ]
  },
  {
   "cell_type": "code",
   "execution_count": null,
   "id": "c5105440-54e8-46fe-a053-67c416dfee2f",
   "metadata": {},
   "outputs": [],
   "source": [
    "# Print benefit_poses dictionary\n",
    "\n",
    "print(benefit_poses)"
   ]
  },
  {
   "cell_type": "code",
   "execution_count": null,
   "id": "87ab7c5c-265a-458d-8c1b-2107bdcdf3cd",
   "metadata": {},
   "outputs": [],
   "source": [
    "# Delete first row of the csv file from the dictionary\n",
    "\n",
    "del benefit_poses['Benefits']"
   ]
  },
  {
   "cell_type": "code",
   "execution_count": null,
   "id": "a7d28258-955a-4a4c-9ba0-da1c28e84f82",
   "metadata": {},
   "outputs": [],
   "source": [
    "# Print benefit_poses dictionary after deletion of first row\n",
    "\n",
    "print(benefit_poses)"
   ]
  },
  {
   "cell_type": "code",
   "execution_count": null,
   "id": "afb017bf-3ef8-4e5d-bdc1-e04fc0a8586d",
   "metadata": {},
   "outputs": [],
   "source": [
    "# Store the keys of benefit_poses dictionary as a list\n",
    "\n",
    "benefits = list(benefit_poses.keys())\n",
    "print(benefits)"
   ]
  },
  {
   "cell_type": "code",
   "execution_count": null,
   "id": "1624551a-430d-46a6-b864-a7e919d5d947",
   "metadata": {},
   "outputs": [],
   "source": [
    "# Initialize the TfidfVectorizer\n",
    "\n",
    "tfidf=TfidfVectorizer()"
   ]
  },
  {
   "cell_type": "code",
   "execution_count": null,
   "id": "57136584-0f39-4804-b508-fc3d320b505c",
   "metadata": {},
   "outputs": [],
   "source": [
    "# Fit the TF-IDF model and transform the benefits list into a vector\n",
    "\n",
    "benefit_vectors = tfidf.fit_transform(benefits)"
   ]
  },
  {
   "cell_type": "code",
   "execution_count": null,
   "id": "bd8a7ed1-ef3a-4fe7-9ed9-27f6005b7793",
   "metadata": {},
   "outputs": [],
   "source": [
    "# Print benefit_vectors\n",
    "\n",
    "print(benefit_vectors)"
   ]
  },
  {
   "cell_type": "code",
   "execution_count": null,
   "id": "fd6f2a97-8f88-4043-ba6d-853b3b4d8c09",
   "metadata": {},
   "outputs": [],
   "source": [
    "# Simulate user input to get their problem\n",
    "\n",
    "user_input = input(\"Enter the problem you need yoga for : \")"
   ]
  },
  {
   "cell_type": "code",
   "execution_count": null,
   "id": "60042c5a-725c-4ac8-9746-83ab80ea954c",
   "metadata": {},
   "outputs": [],
   "source": [
    "# Transform user input into a vector using the same TF-IDF model\n",
    "\n",
    "user_vector = tfidf.transform([user_input])"
   ]
  },
  {
   "cell_type": "code",
   "execution_count": null,
   "id": "1b95e1e3-14be-45bc-904b-4a4a04b2f925",
   "metadata": {},
   "outputs": [],
   "source": [
    "# Calculate cosine similarity between the user's input and problem vectors\n",
    "\n",
    "similarity_scores = cosine_similarity(user_vector, benefit_vectors)"
   ]
  },
  {
   "cell_type": "code",
   "execution_count": null,
   "id": "05b7a35b-db52-49bc-a77a-2973716198d8",
   "metadata": {},
   "outputs": [],
   "source": [
    "# Print similarity_scores\n",
    "\n",
    "print(similarity_scores)"
   ]
  },
  {
   "cell_type": "code",
   "execution_count": null,
   "id": "5a10c035-ad1d-4322-b51b-49217a0e1081",
   "metadata": {},
   "outputs": [],
   "source": [
    "# Get the index of the most similar benefit\n",
    "\n",
    "recommended_index = np.argsort(similarity_scores[0])[::-1][:1]"
   ]
  },
  {
   "cell_type": "code",
   "execution_count": null,
   "id": "ab723192-4b59-4007-b4cf-96b42332147b",
   "metadata": {},
   "outputs": [],
   "source": [
    "# Print the indfex of the most similar indbenefitex\n",
    "\n",
    "print(recommended_index)"
   ]
  },
  {
   "cell_type": "code",
   "execution_count": null,
   "id": "d91c0821-b174-43e3-8738-852f06c78c5a",
   "metadata": {},
   "outputs": [],
   "source": [
    "# Retrieve the corresponding yoga asanas for the input problems\n",
    "\n",
    "recommended_asanas = benefit_poses[benefits[recommended_index[0]]]"
   ]
  },
  {
   "cell_type": "code",
   "execution_count": null,
   "id": "9ca44d53-0712-433d-9f8a-1f1a459e9636",
   "metadata": {},
   "outputs": [],
   "source": [
    "# Print all the recommended asanas\n",
    "\n",
    "for asana in recommended_asanas:\n",
    "    print(asana)"
   ]
  },
  {
   "cell_type": "code",
   "execution_count": null,
   "id": "0c32126d-6ab3-4fde-84ac-af5380dd373d",
   "metadata": {},
   "outputs": [],
   "source": [
    "# Ask user if they want the description of the recommended asanas\n",
    "\n",
    "user_desc_input = input(\"Do you want to know how to perform these asanas? (Y/N) : \")"
   ]
  },
  {
   "cell_type": "code",
   "execution_count": null,
   "id": "3cb1e026-860a-4292-811e-67c73280c828",
   "metadata": {},
   "outputs": [],
   "source": [
    "# Print the description of all the recommended asanas\n",
    "\n",
    "if user_desc_input.upper().strip() == \"Y\" :\n",
    "    for asana in recommended_asanas:\n",
    "        print(asana ,':')\n",
    "        for step in asana_desc[asana]:\n",
    "            print(step)\n",
    "        print()"
   ]
  }
 ],
 "metadata": {
  "kernelspec": {
   "display_name": "Python 3 (ipykernel)",
   "language": "python",
   "name": "python3"
  },
  "language_info": {
   "codemirror_mode": {
    "name": "ipython",
    "version": 3
   },
   "file_extension": ".py",
   "mimetype": "text/x-python",
   "name": "python",
   "nbconvert_exporter": "python",
   "pygments_lexer": "ipython3",
   "version": "3.11.7"
  }
 },
 "nbformat": 4,
 "nbformat_minor": 5
}
