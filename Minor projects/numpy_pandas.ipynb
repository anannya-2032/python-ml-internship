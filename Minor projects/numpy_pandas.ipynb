{
 "cells": [
  {
   "cell_type": "code",
   "execution_count": 1,
   "id": "e544f451-789c-47a0-97f3-76cdc2b29cc4",
   "metadata": {},
   "outputs": [],
   "source": [
    "import numpy as np"
   ]
  },
  {
   "cell_type": "code",
   "execution_count": 2,
   "id": "57852585-8f09-4001-9f6c-e6ec711f3966",
   "metadata": {},
   "outputs": [
    {
     "name": "stdout",
     "output_type": "stream",
     "text": [
      "1.26.4\n"
     ]
    }
   ],
   "source": [
    "print(np.__version__)"
   ]
  },
  {
   "cell_type": "code",
   "execution_count": 3,
   "id": "32c2b830-4301-44d4-9622-6f15049c9cb8",
   "metadata": {},
   "outputs": [
    {
     "name": "stdout",
     "output_type": "stream",
     "text": [
      "The array is:  [11 22 33 44 55]\n"
     ]
    }
   ],
   "source": [
    "arr1=np.array([11,22,33,44,55])\n",
    "print(\"The array is: \",arr1)"
   ]
  },
  {
   "cell_type": "code",
   "execution_count": 4,
   "id": "b9267b41-61e0-4c15-a7b8-e4b3d10db935",
   "metadata": {},
   "outputs": [
    {
     "name": "stdout",
     "output_type": "stream",
     "text": [
      "<class 'numpy.ndarray'>\n"
     ]
    }
   ],
   "source": [
    "print(type(arr1))"
   ]
  },
  {
   "cell_type": "code",
   "execution_count": 5,
   "id": "b2084d13-98c5-4754-bd6f-269641cc99e3",
   "metadata": {},
   "outputs": [
    {
     "name": "stdout",
     "output_type": "stream",
     "text": [
      "[ 77  88  99 100]\n",
      "<class 'numpy.ndarray'>\n"
     ]
    }
   ],
   "source": [
    "arr2=np.array((77,88,99,100))\n",
    "print(arr2)\n",
    "print(type(arr2))"
   ]
  },
  {
   "cell_type": "code",
   "execution_count": null,
   "id": "0f311d19-194d-48cd-83c5-3e8033e181bc",
   "metadata": {},
   "outputs": [],
   "source": []
  },
  {
   "cell_type": "code",
   "execution_count": 7,
   "id": "e59f2780-212d-453d-8836-13516dddbc11",
   "metadata": {},
   "outputs": [
    {
     "name": "stdout",
     "output_type": "stream",
     "text": [
      "[[1 2 3]\n",
      " [4 5 6]]\n"
     ]
    }
   ],
   "source": [
    "arr3=np.array([[1,2,3],[4,5,6]])\n",
    "print(arr3)"
   ]
  },
  {
   "cell_type": "code",
   "execution_count": null,
   "id": "5f95fba2-d9e0-497d-947b-a2d063fdf08e",
   "metadata": {},
   "outputs": [],
   "source": []
  },
  {
   "cell_type": "code",
   "execution_count": null,
   "id": "7844b6f8-8a7e-4394-a757-33e5a6d5091c",
   "metadata": {},
   "outputs": [],
   "source": []
  },
  {
   "cell_type": "code",
   "execution_count": 3,
   "id": "0a25f169-68a1-4715-b1d3-90eb526c248c",
   "metadata": {},
   "outputs": [
    {
     "name": "stdout",
     "output_type": "stream",
     "text": [
      "['hello' 'hi' 'bye' 'go']\n"
     ]
    }
   ],
   "source": [
    "import numpy as np\n",
    "arr4=np.array([\"hello\",\"hi\",\"bye\",\"go\"])\n",
    "print(arr4)"
   ]
  },
  {
   "cell_type": "code",
   "execution_count": null,
   "id": "0d953039-043b-4c4c-825b-aafa1141a50f",
   "metadata": {},
   "outputs": [],
   "source": []
  },
  {
   "cell_type": "code",
   "execution_count": 5,
   "id": "6142d589-b765-4ed0-a210-bd05807d9485",
   "metadata": {},
   "outputs": [
    {
     "name": "stdout",
     "output_type": "stream",
     "text": [
      "hello hi bye go\n"
     ]
    }
   ],
   "source": [
    "print(arr4[0],arr4[1],arr4[2],arr4[3])"
   ]
  },
  {
   "cell_type": "code",
   "execution_count": 6,
   "id": "146c30b7-2ee0-40a7-b136-8df399702be0",
   "metadata": {},
   "outputs": [
    {
     "name": "stdout",
     "output_type": "stream",
     "text": [
      "<U5\n"
     ]
    }
   ],
   "source": [
    "print(arr4.dtype)"
   ]
  },
  {
   "cell_type": "code",
   "execution_count": 7,
   "id": "f72a1c25-e4f3-4e5a-9344-63756be28f71",
   "metadata": {},
   "outputs": [
    {
     "name": "stdout",
     "output_type": "stream",
     "text": [
      "<class 'numpy.str_'>\n"
     ]
    }
   ],
   "source": [
    "print(type(arr4[0]))"
   ]
  },
  {
   "cell_type": "code",
   "execution_count": 8,
   "id": "cade4904-c19c-4ee6-a3fd-6aeeda6c1dcd",
   "metadata": {},
   "outputs": [
    {
     "ename": "ValueError",
     "evalue": "setting an array element with a sequence. The requested array has an inhomogeneous shape after 1 dimensions. The detected shape was (6,) + inhomogeneous part.",
     "output_type": "error",
     "traceback": [
      "\u001b[1;31m---------------------------------------------------------------------------\u001b[0m",
      "\u001b[1;31mValueError\u001b[0m                                Traceback (most recent call last)",
      "Cell \u001b[1;32mIn[8], line 1\u001b[0m\n\u001b[1;32m----> 1\u001b[0m arr7\u001b[38;5;241m=\u001b[39mnp\u001b[38;5;241m.\u001b[39marray([\u001b[38;5;124m\"\u001b[39m\u001b[38;5;124mhello\u001b[39m\u001b[38;5;124m\"\u001b[39m,{\u001b[38;5;241m1\u001b[39m,\u001b[38;5;241m2\u001b[39m,\u001b[38;5;241m3\u001b[39m},[\u001b[38;5;241m56\u001b[39m,\u001b[38;5;241m43\u001b[39m],\u001b[38;5;241m88\u001b[39m,\u001b[38;5;241m90\u001b[39m,\u001b[38;5;124m\"\u001b[39m\u001b[38;5;124mbye\u001b[39m\u001b[38;5;124m\"\u001b[39m])\n\u001b[0;32m      2\u001b[0m \u001b[38;5;28mprint\u001b[39m(arr7)\n",
      "\u001b[1;31mValueError\u001b[0m: setting an array element with a sequence. The requested array has an inhomogeneous shape after 1 dimensions. The detected shape was (6,) + inhomogeneous part."
     ]
    }
   ],
   "source": [
    "arr7=np.array([\"hello\",{1,2,3},[56,43],88,90,\"bye\"])\n",
    "print(arr7)"
   ]
  },
  {
   "cell_type": "code",
   "execution_count": 9,
   "id": "8cfdbb50-668e-4708-9cbd-b4775403b12c",
   "metadata": {},
   "outputs": [
    {
     "name": "stdout",
     "output_type": "stream",
     "text": [
      "[10.+0.j 20.+0.j 30.+0.j 40.+0.j]\n"
     ]
    }
   ],
   "source": [
    "arr8=np.array([10, 20,30,40],complex)\n",
    "print(arr8)"
   ]
  },
  {
   "cell_type": "code",
   "execution_count": 12,
   "id": "f8acd988-2323-4e41-ba50-4f0155bf5317",
   "metadata": {},
   "outputs": [
    {
     "name": "stdout",
     "output_type": "stream",
     "text": [
      "[[[10. 20. 30. 40.]]]\n"
     ]
    }
   ],
   "source": [
    "arr9=np.array([10, 20,30,40],float,ndmin=3)\n",
    "print(arr9)"
   ]
  },
  {
   "cell_type": "code",
   "execution_count": 14,
   "id": "6254f1da-35aa-457d-b95b-d1455e9e2a79",
   "metadata": {},
   "outputs": [
    {
     "name": "stdout",
     "output_type": "stream",
     "text": [
      "[ 1.+0.j  3.+0.j  5.+0.j  7.+0.j  9.+0.j 11.+0.j 13.+0.j 15.+0.j 17.+0.j\n",
      " 19.+0.j 21.+0.j 23.+0.j 25.+0.j 27.+0.j 29.+0.j 31.+0.j 33.+0.j 35.+0.j\n",
      " 37.+0.j 39.+0.j 41.+0.j 43.+0.j 45.+0.j 47.+0.j 49.+0.j]\n"
     ]
    }
   ],
   "source": [
    "arr10=np.arange(1,50,2,complex)\n",
    "print(arr10)"
   ]
  },
  {
   "cell_type": "code",
   "execution_count": 15,
   "id": "15d20ca7-fb8b-4341-b411-128fa34112fc",
   "metadata": {},
   "outputs": [
    {
     "name": "stdout",
     "output_type": "stream",
     "text": [
      "[ 1.    5.75 10.5  15.25 20.  ]\n"
     ]
    }
   ],
   "source": [
    "arr11=np.linspace(1,20,5)\n",
    "print(arr11)"
   ]
  },
  {
   "cell_type": "code",
   "execution_count": 18,
   "id": "cecbd6bd-d58d-4bd2-92c4-f79609a6b5fe",
   "metadata": {},
   "outputs": [
    {
     "name": "stdout",
     "output_type": "stream",
     "text": [
      "[10 20 30]\n",
      "[ 3 30]\n",
      "[1 2 3]\n",
      "[ 1 10]\n",
      "[11 22 33]\n",
      "[ 6 60]\n"
     ]
    }
   ],
   "source": [
    "arr12=np.array([[1,2,3],[10,20,30]])\n",
    "print(arr12.max(axis=0))\n",
    "print(arr12.max(axis=1))\n",
    "print(arr12.min(axis=0))\n",
    "print(arr12.min(axis=1))\n",
    "print(arr12.sum(axis=0))\n",
    "print(arr12.sum(axis=1))"
   ]
  },
  {
   "cell_type": "code",
   "execution_count": 19,
   "id": "bb755559-2974-4f49-962a-ae9f3970be94",
   "metadata": {},
   "outputs": [
    {
     "name": "stdout",
     "output_type": "stream",
     "text": [
      "[[1.         1.41421356 1.73205081]\n",
      " [3.16227766 4.47213595 5.47722558]]\n",
      "10.708252269472673\n",
      "11.0\n",
      "[ 5.5 11.  16.5]\n",
      "[ 2. 20.]\n"
     ]
    }
   ],
   "source": [
    "print(np.sqrt(arr12))\n",
    "print(np.std(arr12))\n",
    "print(np.mean(arr12))\n",
    "print(np.mean(arr12,axis=0))\n",
    "print(np.mean(arr12,axis=1))"
   ]
  },
  {
   "cell_type": "code",
   "execution_count": 21,
   "id": "d270bb66-2749-46f2-b6b2-82efc29c6470",
   "metadata": {},
   "outputs": [
    {
     "name": "stdout",
     "output_type": "stream",
     "text": [
      "[[ 1  2  3]\n",
      " [10 20 30]]\n",
      "[[ 4  5  6]\n",
      " [ 8  9 10]]\n",
      "[[ 5  7  9]\n",
      " [18 29 40]]\n",
      "[[  3   3   3]\n",
      " [ -2 -11 -20]]\n",
      "[[  4  10  18]\n",
      " [ 80 180 300]]\n",
      "[[4.         2.5        2.        ]\n",
      " [0.8        0.45       0.33333333]]\n"
     ]
    }
   ],
   "source": [
    "print(arr12)\n",
    "arr13=np.array([[4,5,6],[8,9,10]])\n",
    "print(arr13)\n",
    "print(arr12+arr13)\n",
    "print(arr13-arr12)\n",
    "print(arr12*arr13)\n",
    "print(arr13/arr12)"
   ]
  },
  {
   "cell_type": "code",
   "execution_count": 26,
   "id": "f62a8f62-49b2-41dc-a2e6-d621423d606c",
   "metadata": {},
   "outputs": [
    {
     "name": "stdout",
     "output_type": "stream",
     "text": [
      "[[  4  80]\n",
      " [ 10 180]\n",
      " [ 18 300]]\n"
     ]
    }
   ],
   "source": [
    "arr14=np.empty((3,2),dtype=int,order='F')\n",
    "print(arr14)"
   ]
  },
  {
   "cell_type": "code",
   "execution_count": 32,
   "id": "8252d3a8-9c21-464e-bff9-72fb3abb28ea",
   "metadata": {},
   "outputs": [
    {
     "name": "stdout",
     "output_type": "stream",
     "text": [
      "[[0.+0.j 0.+0.j 0.+0.j 0.+0.j]\n",
      " [0.+0.j 0.+0.j 0.+0.j 0.+0.j]\n",
      " [0.+0.j 0.+0.j 0.+0.j 0.+0.j]]\n"
     ]
    }
   ],
   "source": [
    "arr15=np.zeros((3,4),dtype=complex,order='C')\n",
    "print(arr15)"
   ]
  },
  {
   "cell_type": "code",
   "execution_count": 35,
   "id": "4851e67d-23d7-4b38-98e9-6291e7eadaf4",
   "metadata": {},
   "outputs": [
    {
     "name": "stdout",
     "output_type": "stream",
     "text": [
      "[ 4 80]\n",
      "[ 10 180]\n",
      "[ 18 300]\n"
     ]
    }
   ],
   "source": [
    "for row in arr14:\n",
    "    print(row)"
   ]
  },
  {
   "cell_type": "code",
   "execution_count": 43,
   "id": "22db0ddd-4d8c-4438-b431-39f9bfcc3bb5",
   "metadata": {},
   "outputs": [
    {
     "name": "stdout",
     "output_type": "stream",
     "text": [
      "[[1 2 3]\n",
      " [2 3 4]]\n",
      "\n",
      "\n",
      "[[4 5 6]\n",
      " [5 6 7]]\n",
      "\n",
      "\n",
      "[[6 7 8]\n",
      " [7 8 9]]\n",
      "\n",
      "\n",
      "[1 2 3]\n",
      "\n",
      "\n",
      "[2 3 4]\n",
      "\n",
      "\n",
      "[4 5 6]\n",
      "\n",
      "\n",
      "[5 6 7]\n",
      "\n",
      "\n",
      "[6 7 8]\n",
      "\n",
      "\n",
      "[7 8 9]\n",
      "\n",
      "\n",
      "1\n",
      "2\n",
      "3\n",
      "\n",
      "\n",
      "2\n",
      "3\n",
      "4\n",
      "\n",
      "\n",
      "4\n",
      "5\n",
      "6\n",
      "\n",
      "\n",
      "5\n",
      "6\n",
      "7\n",
      "\n",
      "\n",
      "6\n",
      "7\n",
      "8\n",
      "\n",
      "\n",
      "7\n",
      "8\n",
      "9\n",
      "\n",
      "\n"
     ]
    }
   ],
   "source": [
    "arr16=np.array([[[1,2,3],[2,3,4]],[[4,5,6],[5,6,7]],[[6,7,8],[7,8,9]]])\n",
    "for row in arr16:\n",
    "    print(row)\n",
    "    print(\"\\n\")\n",
    "\n",
    "for row in arr16:\n",
    "    for i in row:\n",
    "        print(i)\n",
    "        print(\"\\n\")\n",
    "\n",
    "for row in arr16:\n",
    "    for i in row:\n",
    "        for j in i:\n",
    "            print(j)\n",
    "        print(\"\\n\")"
   ]
  },
  {
   "cell_type": "code",
   "execution_count": 44,
   "id": "a80e28ca-12a1-4aa3-a620-6841e81495d7",
   "metadata": {},
   "outputs": [
    {
     "name": "stdout",
     "output_type": "stream",
     "text": [
      "0    h\n",
      "1    e\n",
      "2    l\n",
      "3    l\n",
      "4    o\n",
      "dtype: object\n"
     ]
    }
   ],
   "source": [
    "import pandas as pd\n",
    "arr1=np.array(['h','e','l','l','o'])\n",
    "series1=pd.Series(arr1)\n",
    "print(series1)"
   ]
  },
  {
   "cell_type": "code",
   "execution_count": 46,
   "id": "74b4fc64-3d77-4315-8720-c14562c73577",
   "metadata": {},
   "outputs": [
    {
     "name": "stdout",
     "output_type": "stream",
     "text": [
      "Empty DataFrame\n",
      "Columns: []\n",
      "Index: []\n"
     ]
    }
   ],
   "source": [
    "print(pd.DataFrame())"
   ]
  },
  {
   "cell_type": "code",
   "execution_count": 47,
   "id": "f000fb0f-ac13-4eb9-813a-2fc55670fb21",
   "metadata": {},
   "outputs": [
    {
     "name": "stdout",
     "output_type": "stream",
     "text": [
      "       0    1     2     3\n",
      "0  Hello  all  None  None\n",
      "1      1    2  None  None\n",
      "2      a    b     c     d\n"
     ]
    }
   ],
   "source": [
    "list1=[['Hello','all'],[1,2],['a','b','c','d']]\n",
    "df1=pd.DataFrame(list1)\n",
    "print(df1)"
   ]
  },
  {
   "cell_type": "code",
   "execution_count": 49,
   "id": "112674d4-524b-4cf0-ab65-f7b2fcde60a9",
   "metadata": {},
   "outputs": [
    {
     "data": {
      "text/html": [
       "<div>\n",
       "<style scoped>\n",
       "    .dataframe tbody tr th:only-of-type {\n",
       "        vertical-align: middle;\n",
       "    }\n",
       "\n",
       "    .dataframe tbody tr th {\n",
       "        vertical-align: top;\n",
       "    }\n",
       "\n",
       "    .dataframe thead th {\n",
       "        text-align: right;\n",
       "    }\n",
       "</style>\n",
       "<table border=\"1\" class=\"dataframe\">\n",
       "  <thead>\n",
       "    <tr style=\"text-align: right;\">\n",
       "      <th></th>\n",
       "      <th>Name</th>\n",
       "      <th>Author</th>\n",
       "      <th>User Rating</th>\n",
       "      <th>Reviews</th>\n",
       "      <th>Price</th>\n",
       "      <th>Year</th>\n",
       "      <th>Genre</th>\n",
       "    </tr>\n",
       "  </thead>\n",
       "  <tbody>\n",
       "    <tr>\n",
       "      <th>0</th>\n",
       "      <td>10-Day Green Smoothie Cleanse</td>\n",
       "      <td>JJ Smith</td>\n",
       "      <td>4.7</td>\n",
       "      <td>17350</td>\n",
       "      <td>8</td>\n",
       "      <td>2016</td>\n",
       "      <td>Non Fiction</td>\n",
       "    </tr>\n",
       "    <tr>\n",
       "      <th>1</th>\n",
       "      <td>11/22/63: A Novel</td>\n",
       "      <td>Stephen King</td>\n",
       "      <td>4.6</td>\n",
       "      <td>2052</td>\n",
       "      <td>22</td>\n",
       "      <td>2011</td>\n",
       "      <td>Fiction</td>\n",
       "    </tr>\n",
       "    <tr>\n",
       "      <th>2</th>\n",
       "      <td>12 Rules for Life: An Antidote to Chaos</td>\n",
       "      <td>Jordan B. Peterson</td>\n",
       "      <td>4.7</td>\n",
       "      <td>18979</td>\n",
       "      <td>15</td>\n",
       "      <td>2018</td>\n",
       "      <td>Non Fiction</td>\n",
       "    </tr>\n",
       "    <tr>\n",
       "      <th>3</th>\n",
       "      <td>1984 (Signet Classics)</td>\n",
       "      <td>George Orwell</td>\n",
       "      <td>4.7</td>\n",
       "      <td>21424</td>\n",
       "      <td>6</td>\n",
       "      <td>2017</td>\n",
       "      <td>Fiction</td>\n",
       "    </tr>\n",
       "    <tr>\n",
       "      <th>4</th>\n",
       "      <td>5,000 Awesome Facts (About Everything!) (Natio...</td>\n",
       "      <td>National Geographic Kids</td>\n",
       "      <td>4.8</td>\n",
       "      <td>7665</td>\n",
       "      <td>12</td>\n",
       "      <td>2019</td>\n",
       "      <td>Non Fiction</td>\n",
       "    </tr>\n",
       "    <tr>\n",
       "      <th>...</th>\n",
       "      <td>...</td>\n",
       "      <td>...</td>\n",
       "      <td>...</td>\n",
       "      <td>...</td>\n",
       "      <td>...</td>\n",
       "      <td>...</td>\n",
       "      <td>...</td>\n",
       "    </tr>\n",
       "    <tr>\n",
       "      <th>545</th>\n",
       "      <td>Wrecking Ball (Diary of a Wimpy Kid Book 14)</td>\n",
       "      <td>Jeff Kinney</td>\n",
       "      <td>4.9</td>\n",
       "      <td>9413</td>\n",
       "      <td>8</td>\n",
       "      <td>2019</td>\n",
       "      <td>Fiction</td>\n",
       "    </tr>\n",
       "    <tr>\n",
       "      <th>546</th>\n",
       "      <td>You Are a Badass: How to Stop Doubting Your Gr...</td>\n",
       "      <td>Jen Sincero</td>\n",
       "      <td>4.7</td>\n",
       "      <td>14331</td>\n",
       "      <td>8</td>\n",
       "      <td>2016</td>\n",
       "      <td>Non Fiction</td>\n",
       "    </tr>\n",
       "    <tr>\n",
       "      <th>547</th>\n",
       "      <td>You Are a Badass: How to Stop Doubting Your Gr...</td>\n",
       "      <td>Jen Sincero</td>\n",
       "      <td>4.7</td>\n",
       "      <td>14331</td>\n",
       "      <td>8</td>\n",
       "      <td>2017</td>\n",
       "      <td>Non Fiction</td>\n",
       "    </tr>\n",
       "    <tr>\n",
       "      <th>548</th>\n",
       "      <td>You Are a Badass: How to Stop Doubting Your Gr...</td>\n",
       "      <td>Jen Sincero</td>\n",
       "      <td>4.7</td>\n",
       "      <td>14331</td>\n",
       "      <td>8</td>\n",
       "      <td>2018</td>\n",
       "      <td>Non Fiction</td>\n",
       "    </tr>\n",
       "    <tr>\n",
       "      <th>549</th>\n",
       "      <td>You Are a Badass: How to Stop Doubting Your Gr...</td>\n",
       "      <td>Jen Sincero</td>\n",
       "      <td>4.7</td>\n",
       "      <td>14331</td>\n",
       "      <td>8</td>\n",
       "      <td>2019</td>\n",
       "      <td>Non Fiction</td>\n",
       "    </tr>\n",
       "  </tbody>\n",
       "</table>\n",
       "<p>550 rows × 7 columns</p>\n",
       "</div>"
      ],
      "text/plain": [
       "                                                  Name  \\\n",
       "0                        10-Day Green Smoothie Cleanse   \n",
       "1                                    11/22/63: A Novel   \n",
       "2              12 Rules for Life: An Antidote to Chaos   \n",
       "3                               1984 (Signet Classics)   \n",
       "4    5,000 Awesome Facts (About Everything!) (Natio...   \n",
       "..                                                 ...   \n",
       "545       Wrecking Ball (Diary of a Wimpy Kid Book 14)   \n",
       "546  You Are a Badass: How to Stop Doubting Your Gr...   \n",
       "547  You Are a Badass: How to Stop Doubting Your Gr...   \n",
       "548  You Are a Badass: How to Stop Doubting Your Gr...   \n",
       "549  You Are a Badass: How to Stop Doubting Your Gr...   \n",
       "\n",
       "                       Author  User Rating  Reviews  Price  Year        Genre  \n",
       "0                    JJ Smith          4.7    17350      8  2016  Non Fiction  \n",
       "1                Stephen King          4.6     2052     22  2011      Fiction  \n",
       "2          Jordan B. Peterson          4.7    18979     15  2018  Non Fiction  \n",
       "3               George Orwell          4.7    21424      6  2017      Fiction  \n",
       "4    National Geographic Kids          4.8     7665     12  2019  Non Fiction  \n",
       "..                        ...          ...      ...    ...   ...          ...  \n",
       "545               Jeff Kinney          4.9     9413      8  2019      Fiction  \n",
       "546               Jen Sincero          4.7    14331      8  2016  Non Fiction  \n",
       "547               Jen Sincero          4.7    14331      8  2017  Non Fiction  \n",
       "548               Jen Sincero          4.7    14331      8  2018  Non Fiction  \n",
       "549               Jen Sincero          4.7    14331      8  2019  Non Fiction  \n",
       "\n",
       "[550 rows x 7 columns]"
      ]
     },
     "execution_count": 49,
     "metadata": {},
     "output_type": "execute_result"
    }
   ],
   "source": [
    "import pandas as pd\n",
    "df1=pd.read_csv(r\"C:/Users/Dell/Desktop/Databases_python ml/bestsellers.csv\")\n",
    "df1"
   ]
  },
  {
   "cell_type": "code",
   "execution_count": null,
   "id": "9b8f810a-477e-44ef-b3b0-9689f1308bd9",
   "metadata": {},
   "outputs": [],
   "source": []
  }
 ],
 "metadata": {
  "kernelspec": {
   "display_name": "Python 3 (ipykernel)",
   "language": "python",
   "name": "python3"
  },
  "language_info": {
   "codemirror_mode": {
    "name": "ipython",
    "version": 3
   },
   "file_extension": ".py",
   "mimetype": "text/x-python",
   "name": "python",
   "nbconvert_exporter": "python",
   "pygments_lexer": "ipython3",
   "version": "3.11.7"
  }
 },
 "nbformat": 4,
 "nbformat_minor": 5
}
